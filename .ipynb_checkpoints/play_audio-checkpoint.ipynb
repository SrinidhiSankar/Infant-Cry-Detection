{
 "cells": [
  {
   "cell_type": "code",
   "execution_count": 3,
   "id": "bf893a02",
   "metadata": {},
   "outputs": [
    {
     "name": "stdout",
     "output_type": "stream",
     "text": [
      "pygame 2.1.2 (SDL 2.0.18, Python 3.9.7)\n",
      "Hello from the pygame community. https://www.pygame.org/contribute.html\n"
     ]
    }
   ],
   "source": [
    "import keyboard\n",
    "import os\n",
    "from pygame import mixer"
   ]
  },
  {
   "cell_type": "code",
   "execution_count": 4,
   "id": "edb9451c",
   "metadata": {},
   "outputs": [],
   "source": [
    "def play_audio(filename):\n",
    "    \n",
    "    print(os.path.dirname(os.path.abspath('__file__')) + \"\\\\\" + filename)\n",
    "\n",
    "    mixer.init()\n",
    "    mixer.music.load(os.path.dirname(os.path.abspath('__file__')) + \"\\\\\" + filename)\n",
    "    mixer.music.play()\n",
    "    while mixer.music.get_busy() == True:\n",
    "        try: \n",
    "            if keyboard.is_pressed('esc'):\n",
    "                print('Music Stopped')\n",
    "                mixer.music.stop()\n",
    "                break\n",
    "            else:\n",
    "                pass\n",
    "        except:\n",
    "            continue"
   ]
  },
  {
   "cell_type": "code",
   "execution_count": 6,
   "id": "567806c5",
   "metadata": {},
   "outputs": [
    {
     "name": "stdout",
     "output_type": "stream",
     "text": [
      "C:\\Users\\nandh\\anaconda3\\SRP\\lullaby_goodnight.mp3\n",
      "Music Stopped\n"
     ]
    }
   ],
   "source": [
    "if __name__ == \"__main__\":\n",
    "    play_audio(\"lullaby_goodnight.mp3\")"
   ]
  },
  {
   "cell_type": "code",
   "execution_count": null,
   "id": "482168fb",
   "metadata": {},
   "outputs": [],
   "source": []
  }
 ],
 "metadata": {
  "kernelspec": {
   "display_name": "Python 3 (ipykernel)",
   "language": "python",
   "name": "python3"
  },
  "language_info": {
   "codemirror_mode": {
    "name": "ipython",
    "version": 3
   },
   "file_extension": ".py",
   "mimetype": "text/x-python",
   "name": "python",
   "nbconvert_exporter": "python",
   "pygments_lexer": "ipython3",
   "version": "3.9.7"
  }
 },
 "nbformat": 4,
 "nbformat_minor": 5
}
