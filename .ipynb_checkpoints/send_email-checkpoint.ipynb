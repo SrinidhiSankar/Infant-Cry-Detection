{
 "cells": [
  {
   "cell_type": "code",
   "execution_count": 1,
   "id": "8bb192e5",
   "metadata": {},
   "outputs": [],
   "source": [
    "import smtplib\n",
    "from email.mime.multipart import MIMEMultipart\n",
    "from email.mime.text import MIMEText\n",
    "\n",
    "def send_email(reason):\n",
    "    \n",
    "    email = \"tosrinidhi11@gmail.com\"\n",
    "    fromaddr = \"srpprojectns@yahoo.com\" # insert sender email address here\n",
    "    toaddr = email\n",
    "    msg = MIMEMultipart()\n",
    "    msg['From'] = fromaddr\n",
    "    msg['To'] = toaddr\n",
    "    msg['Subject'] = \"Notification from Baby Ready\"\n",
    "     \n",
    "    body = \"Your child is currently crying likely due to \" + reason\n",
    "    msg.attach(MIMEText(body, 'plain'))\n",
    "     \n",
    "    server = smtplib.SMTP_SSL('smtp.mail.yahoo.com', 465)\n",
    "    #server.starttls()\n",
    "    server.login(fromaddr, \"xgpnngpcqmvvhfxs\") # insert sender email password here\n",
    "    text = msg.as_string()\n",
    "    server.sendmail(fromaddr, toaddr, text)\n",
    "    server.quit()\n",
    "\n",
    "\n",
    "# In[3]:\n",
    "\n",
    "\n",
    "if __name__ == \"__main__\":\n",
    "    #send_email(\"Hunger\")"
   ]
  },
  {
   "cell_type": "code",
   "execution_count": null,
   "id": "1381b204",
   "metadata": {},
   "outputs": [],
   "source": []
  }
 ],
 "metadata": {
  "kernelspec": {
   "display_name": "Python 3 (ipykernel)",
   "language": "python",
   "name": "python3"
  },
  "language_info": {
   "codemirror_mode": {
    "name": "ipython",
    "version": 3
   },
   "file_extension": ".py",
   "mimetype": "text/x-python",
   "name": "python",
   "nbconvert_exporter": "python",
   "pygments_lexer": "ipython3",
   "version": "3.9.7"
  }
 },
 "nbformat": 4,
 "nbformat_minor": 5
}
