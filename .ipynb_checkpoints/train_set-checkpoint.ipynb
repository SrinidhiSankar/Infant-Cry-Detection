{
 "cells": [
  {
   "cell_type": "code",
   "execution_count": 14,
   "id": "f7db0f5d",
   "metadata": {},
   "outputs": [
    {
     "name": "stdout",
     "output_type": "stream",
     "text": [
      "Collecting google-api-core\n",
      "  Downloading google_api_core-2.8.1-py3-none-any.whl (114 kB)\n",
      "Collecting google-auth<3.0dev,>=1.25.0\n",
      "  Downloading google_auth-2.6.6-py2.py3-none-any.whl (156 kB)\n",
      "Requirement already satisfied: requests<3.0.0dev,>=2.18.0 in c:\\users\\nandh\\anaconda3\\lib\\site-packages (from google-api-core) (2.26.0)\n",
      "Collecting googleapis-common-protos<2.0dev,>=1.56.2\n",
      "  Downloading googleapis_common_protos-1.56.2-py2.py3-none-any.whl (211 kB)\n",
      "Collecting protobuf<4.0.0dev,>=3.15.0\n",
      "  Downloading protobuf-3.20.1-cp39-cp39-win_amd64.whl (904 kB)\n",
      "Requirement already satisfied: six>=1.9.0 in c:\\users\\nandh\\anaconda3\\lib\\site-packages (from google-auth<3.0dev,>=1.25.0->google-api-core) (1.16.0)\n",
      "Collecting pyasn1-modules>=0.2.1\n",
      "  Downloading pyasn1_modules-0.2.8-py2.py3-none-any.whl (155 kB)\n",
      "Collecting rsa<5,>=3.1.4\n",
      "  Downloading rsa-4.8-py3-none-any.whl (39 kB)\n",
      "Collecting cachetools<6.0,>=2.0.0\n",
      "  Downloading cachetools-5.2.0-py3-none-any.whl (9.3 kB)\n",
      "Collecting pyasn1<0.5.0,>=0.4.6\n",
      "  Downloading pyasn1-0.4.8-py2.py3-none-any.whl (77 kB)\n",
      "Requirement already satisfied: idna<4,>=2.5 in c:\\users\\nandh\\anaconda3\\lib\\site-packages (from requests<3.0.0dev,>=2.18.0->google-api-core) (3.2)\n",
      "Requirement already satisfied: urllib3<1.27,>=1.21.1 in c:\\users\\nandh\\anaconda3\\lib\\site-packages (from requests<3.0.0dev,>=2.18.0->google-api-core) (1.26.7)\n",
      "Requirement already satisfied: certifi>=2017.4.17 in c:\\users\\nandh\\anaconda3\\lib\\site-packages (from requests<3.0.0dev,>=2.18.0->google-api-core) (2021.10.8)\n",
      "Requirement already satisfied: charset-normalizer~=2.0.0 in c:\\users\\nandh\\anaconda3\\lib\\site-packages (from requests<3.0.0dev,>=2.18.0->google-api-core) (2.0.4)\n",
      "Installing collected packages: pyasn1, rsa, pyasn1-modules, protobuf, cachetools, googleapis-common-protos, google-auth, google-api-core\n",
      "Successfully installed cachetools-5.2.0 google-api-core-2.8.1 google-auth-2.6.6 googleapis-common-protos-1.56.2 protobuf-3.20.1 pyasn1-0.4.8 pyasn1-modules-0.2.8 rsa-4.8\n",
      "Note: you may need to restart the kernel to use updated packages.\n"
     ]
    }
   ],
   "source": [
    "pip install google-api-core\n"
   ]
  },
  {
   "cell_type": "code",
   "execution_count": 15,
   "id": "fa123339",
   "metadata": {},
   "outputs": [
    {
     "name": "stdout",
     "output_type": "stream",
     "text": [
      "Requirement already satisfied: requests in c:\\users\\nandh\\anaconda3\\lib\\site-packages (2.26.0)\n",
      "Requirement already satisfied: idna<4,>=2.5 in c:\\users\\nandh\\anaconda3\\lib\\site-packages (from requests) (3.2)\n",
      "Requirement already satisfied: urllib3<1.27,>=1.21.1 in c:\\users\\nandh\\anaconda3\\lib\\site-packages (from requests) (1.26.7)\n",
      "Requirement already satisfied: charset-normalizer~=2.0.0 in c:\\users\\nandh\\anaconda3\\lib\\site-packages (from requests) (2.0.4)\n",
      "Requirement already satisfied: certifi>=2017.4.17 in c:\\users\\nandh\\anaconda3\\lib\\site-packages (from requests) (2021.10.8)\n",
      "Note: you may need to restart the kernel to use updated packages.\n"
     ]
    }
   ],
   "source": [
    "pip install requests"
   ]
  },
  {
   "cell_type": "code",
   "execution_count": 1,
   "id": "df6fe886",
   "metadata": {},
   "outputs": [
    {
     "name": "stdout",
     "output_type": "stream",
     "text": [
      "Note: you may need to restart the kernel to use updated packages.\n"
     ]
    },
    {
     "name": "stderr",
     "output_type": "stream",
     "text": [
      "ERROR: Could not open requirements file: [Errno 2] No such file or directory: 'requirements.txt'\n"
     ]
    }
   ],
   "source": [
    "pip install -r requirements.txt"
   ]
  },
  {
   "cell_type": "code",
   "execution_count": 4,
   "id": "a14d9dfd",
   "metadata": {},
   "outputs": [
    {
     "name": "stdout",
     "output_type": "stream",
     "text": [
      "Requirement already satisfied: librosa in c:\\users\\nandh\\anaconda3\\lib\\site-packages (0.9.1)\n",
      "Requirement already satisfied: packaging>=20.0 in c:\\users\\nandh\\anaconda3\\lib\\site-packages (from librosa) (21.0)\n",
      "Requirement already satisfied: joblib>=0.14 in c:\\users\\nandh\\anaconda3\\lib\\site-packages (from librosa) (1.1.0)\n",
      "Requirement already satisfied: numpy>=1.17.0 in c:\\users\\nandh\\anaconda3\\lib\\site-packages (from librosa) (1.20.3)\n",
      "Requirement already satisfied: scikit-learn>=0.19.1 in c:\\users\\nandh\\anaconda3\\lib\\site-packages (from librosa) (0.24.2)\n",
      "Requirement already satisfied: decorator>=4.0.10 in c:\\users\\nandh\\anaconda3\\lib\\site-packages (from librosa) (5.1.0)\n",
      "Requirement already satisfied: audioread>=2.1.5 in c:\\users\\nandh\\anaconda3\\lib\\site-packages (from librosa) (2.1.9)\n",
      "Requirement already satisfied: resampy>=0.2.2 in c:\\users\\nandh\\anaconda3\\lib\\site-packages (from librosa) (0.2.2)\n",
      "Requirement already satisfied: soundfile>=0.10.2 in c:\\users\\nandh\\anaconda3\\lib\\site-packages (from librosa) (0.10.3.post1)\n",
      "Requirement already satisfied: pooch>=1.0 in c:\\users\\nandh\\anaconda3\\lib\\site-packages (from librosa) (1.6.0)\n",
      "Requirement already satisfied: numba>=0.45.1 in c:\\users\\nandh\\anaconda3\\lib\\site-packages (from librosa) (0.54.1)\n",
      "Requirement already satisfied: scipy>=1.2.0 in c:\\users\\nandh\\anaconda3\\lib\\site-packages (from librosa) (1.7.1)\n",
      "Requirement already satisfied: setuptools in c:\\users\\nandh\\anaconda3\\lib\\site-packages (from numba>=0.45.1->librosa) (58.0.4)\n",
      "Requirement already satisfied: llvmlite<0.38,>=0.37.0rc1 in c:\\users\\nandh\\anaconda3\\lib\\site-packages (from numba>=0.45.1->librosa) (0.37.0)\n",
      "Requirement already satisfied: pyparsing>=2.0.2 in c:\\users\\nandh\\anaconda3\\lib\\site-packages (from packaging>=20.0->librosa) (3.0.4)\n",
      "Requirement already satisfied: requests>=2.19.0 in c:\\users\\nandh\\anaconda3\\lib\\site-packages (from pooch>=1.0->librosa) (2.26.0)\n",
      "Requirement already satisfied: appdirs>=1.3.0 in c:\\users\\nandh\\anaconda3\\lib\\site-packages (from pooch>=1.0->librosa) (1.4.4)\n",
      "Requirement already satisfied: urllib3<1.27,>=1.21.1 in c:\\users\\nandh\\anaconda3\\lib\\site-packages (from requests>=2.19.0->pooch>=1.0->librosa) (1.26.7)\n",
      "Requirement already satisfied: charset-normalizer~=2.0.0 in c:\\users\\nandh\\anaconda3\\lib\\site-packages (from requests>=2.19.0->pooch>=1.0->librosa) (2.0.4)\n",
      "Requirement already satisfied: certifi>=2017.4.17 in c:\\users\\nandh\\anaconda3\\lib\\site-packages (from requests>=2.19.0->pooch>=1.0->librosa) (2021.10.8)\n",
      "Requirement already satisfied: idna<4,>=2.5 in c:\\users\\nandh\\anaconda3\\lib\\site-packages (from requests>=2.19.0->pooch>=1.0->librosa) (3.2)\n",
      "Requirement already satisfied: six>=1.3 in c:\\users\\nandh\\anaconda3\\lib\\site-packages (from resampy>=0.2.2->librosa) (1.16.0)\n",
      "Requirement already satisfied: threadpoolctl>=2.0.0 in c:\\users\\nandh\\anaconda3\\lib\\site-packages (from scikit-learn>=0.19.1->librosa) (2.2.0)\n",
      "Requirement already satisfied: cffi>=1.0 in c:\\users\\nandh\\anaconda3\\lib\\site-packages (from soundfile>=0.10.2->librosa) (1.14.6)\n",
      "Requirement already satisfied: pycparser in c:\\users\\nandh\\anaconda3\\lib\\site-packages (from cffi>=1.0->soundfile>=0.10.2->librosa) (2.20)\n",
      "Note: you may need to restart the kernel to use updated packages.\n"
     ]
    }
   ],
   "source": [
    "pip install librosa"
   ]
  },
  {
   "cell_type": "code",
   "execution_count": 2,
   "id": "04ddc05c",
   "metadata": {},
   "outputs": [],
   "source": [
    "import argparse\n",
    "import os\n",
    "import numpy as np\n",
    "import logging\n",
    "import re\n",
    "import timeit\n",
    "\n",
    "import methods\n",
    "from methods import Reader\n",
    "from methods.feature_engineer import FeatureEngineer"
   ]
  },
  {
   "cell_type": "code",
   "execution_count": 13,
   "id": "f89614f4",
   "metadata": {},
   "outputs": [],
   "source": [
    "def main():\n",
    "    parser = argparse.ArgumentParser()\n",
    "    parser.add_argument('--load_path',\n",
    "                        default='data/')\n",
    "    parser.add_argument('--save_path',\n",
    "                        default='output/model/')\n",
    "    parser.add_argument('--log_path',\n",
    "                        default='logs/')\n",
    "\n",
    "    # Arguments\n",
    "    args = argparse.ArgumentParser()\n",
    "    load_path = args.load_path\n",
    "    save_path = args.save_path\n",
    "    log_path = args.log_path\n",
    "\n",
    "    ####################################################################################################################\n",
    "    # Set up logging\n",
    "    ####################################################################################################################\n",
    "\n",
    "    logging.basicConfig(format='%(asctime)s - %(levelname)s - %(message)s',\n",
    "                        datefmt='%Y-%m-%d %I:%M:%S %p',\n",
    "                        filename=os.path.join(log_path, 'logs_pc_methods_feat_eng.log'),\n",
    "                        filemode='w',\n",
    "                        level=logging.INFO)\n",
    "\n",
    "    ####################################################################################################################\n",
    "    # READ FILES IN SUB-FOLDERS of load_path and FEATURE ENGINEERING\n",
    "    ####################################################################################################################\n",
    "\n",
    "    # list load_path sub-folders\n",
    "    #regex = re.compile(r'^[0-9]')\n",
    "    #directory_list = [i for i in os.listdir(load_path) if regex.search(i)]\n",
    "    directory_list = [i for i in os.listdir(load_path)]\n",
    "    \n",
    "    # initialize empty array for features\n",
    "    X = np.empty([1, 18])\n",
    "\n",
    "    # initialise empty array for labels\n",
    "    y = []\n",
    "\n",
    "    logging.info('Creating training set...')\n",
    "    start = timeit.default_timer()\n",
    "\n",
    "    # iteration on sub-folders\n",
    "    for directory in directory_list:\n",
    "\n",
    "        # Instantiate FeatureEngineer\n",
    "        feature_engineer = FeatureEngineer(label=directory)\n",
    "\n",
    "        file_list = os.listdir(os.path.join(load_path, directory))\n",
    "\n",
    "        # iteration on audio files in each sub-folder\n",
    "        for audio_file in file_list:\n",
    "            file_reader = Reader(os.path.join(load_path, directory, audio_file))\n",
    "            data, sample_rate = file_reader.read_audio_file()\n",
    "            avg_features, label = feature_engineer.feature_engineer(audio_data=data)\n",
    "\n",
    "            X = np.concatenate((X, avg_features), axis=0)\n",
    "            y.append(label)\n",
    "\n",
    "    # X.shape is (401, 18) as I'm not using indexing. First line is made of zeros and is to be removed\n",
    "    X = X[1:, :]\n",
    "\n",
    "    stop = timeit.default_timer()\n",
    "    logging.info('Time taken for reading files and feature engineering: {0}'.format(stop - start))\n",
    "\n",
    "    ####################################################################################################################\n",
    "    # SAVE\n",
    "    ####################################################################################################################\n",
    "\n",
    "    logging.info('Saving training set...')\n",
    "\n",
    "    # Save to numpy binary format\n",
    "    np.save(os.path.join(save_path, 'dataset.npy'), X)\n",
    "\n",
    "    np.save(os.path.join(save_path, 'labels.npy'), y)\n",
    "\n",
    "    logging.info('Saved! {0}'.format(os.path.join(save_path, 'dataset.npy')))\n",
    "    logging.info('Saved! {0}'.format(os.path.join(save_path, 'labels.npy')))"
   ]
  },
  {
   "cell_type": "code",
   "execution_count": 14,
   "id": "792f574e",
   "metadata": {},
   "outputs": [
    {
     "ename": "AttributeError",
     "evalue": "'ArgumentParser' object has no attribute 'load_path'",
     "output_type": "error",
     "traceback": [
      "\u001b[1;31m---------------------------------------------------------------------------\u001b[0m",
      "\u001b[1;31mAttributeError\u001b[0m                            Traceback (most recent call last)",
      "\u001b[1;32m~\\AppData\\Local\\Temp/ipykernel_36532/217905245.py\u001b[0m in \u001b[0;36m<module>\u001b[1;34m\u001b[0m\n\u001b[0;32m      1\u001b[0m \u001b[1;32mif\u001b[0m \u001b[0m__name__\u001b[0m \u001b[1;33m==\u001b[0m \u001b[1;34m'__main__'\u001b[0m\u001b[1;33m:\u001b[0m\u001b[1;33m\u001b[0m\u001b[1;33m\u001b[0m\u001b[0m\n\u001b[1;32m----> 2\u001b[1;33m     \u001b[0mmain\u001b[0m\u001b[1;33m(\u001b[0m\u001b[1;33m)\u001b[0m\u001b[1;33m\u001b[0m\u001b[1;33m\u001b[0m\u001b[0m\n\u001b[0m",
      "\u001b[1;32m~\\AppData\\Local\\Temp/ipykernel_36532/477064798.py\u001b[0m in \u001b[0;36mmain\u001b[1;34m()\u001b[0m\n\u001b[0;32m     10\u001b[0m     \u001b[1;31m# Arguments\u001b[0m\u001b[1;33m\u001b[0m\u001b[1;33m\u001b[0m\u001b[0m\n\u001b[0;32m     11\u001b[0m     \u001b[0margs\u001b[0m \u001b[1;33m=\u001b[0m \u001b[0margparse\u001b[0m\u001b[1;33m.\u001b[0m\u001b[0mArgumentParser\u001b[0m\u001b[1;33m(\u001b[0m\u001b[1;33m)\u001b[0m\u001b[1;33m\u001b[0m\u001b[1;33m\u001b[0m\u001b[0m\n\u001b[1;32m---> 12\u001b[1;33m     \u001b[0mload_path\u001b[0m \u001b[1;33m=\u001b[0m \u001b[0margs\u001b[0m\u001b[1;33m.\u001b[0m\u001b[0mload_path\u001b[0m\u001b[1;33m\u001b[0m\u001b[1;33m\u001b[0m\u001b[0m\n\u001b[0m\u001b[0;32m     13\u001b[0m     \u001b[0msave_path\u001b[0m \u001b[1;33m=\u001b[0m \u001b[0margs\u001b[0m\u001b[1;33m.\u001b[0m\u001b[0msave_path\u001b[0m\u001b[1;33m\u001b[0m\u001b[1;33m\u001b[0m\u001b[0m\n\u001b[0;32m     14\u001b[0m     \u001b[0mlog_path\u001b[0m \u001b[1;33m=\u001b[0m \u001b[0margs\u001b[0m\u001b[1;33m.\u001b[0m\u001b[0mlog_path\u001b[0m\u001b[1;33m\u001b[0m\u001b[1;33m\u001b[0m\u001b[0m\n",
      "\u001b[1;31mAttributeError\u001b[0m: 'ArgumentParser' object has no attribute 'load_path'"
     ]
    }
   ],
   "source": [
    "if __name__ == '__main__':\n",
    "    main()"
   ]
  },
  {
   "cell_type": "code",
   "execution_count": null,
   "id": "aec45774",
   "metadata": {},
   "outputs": [],
   "source": []
  }
 ],
 "metadata": {
  "kernelspec": {
   "display_name": "Python 3 (ipykernel)",
   "language": "python",
   "name": "python3"
  },
  "language_info": {
   "codemirror_mode": {
    "name": "ipython",
    "version": 3
   },
   "file_extension": ".py",
   "mimetype": "text/x-python",
   "name": "python",
   "nbconvert_exporter": "python",
   "pygments_lexer": "ipython3",
   "version": "3.9.7"
  }
 },
 "nbformat": 4,
 "nbformat_minor": 5
}
