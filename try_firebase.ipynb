{
 "cells": [
  {
   "cell_type": "code",
   "execution_count": 3,
   "id": "4a9a36b8",
   "metadata": {},
   "outputs": [
    {
     "name": "stdout",
     "output_type": "stream",
     "text": [
      "Collecting pycryptodomex\n",
      "  Downloading pycryptodomex-3.14.1-cp35-abi3-win_amd64.whl (1.8 MB)\n",
      "Installing collected packages: pycryptodomex\n",
      "Successfully installed pycryptodomex-3.14.1\n",
      "Note: you may need to restart the kernel to use updated packages.\n"
     ]
    }
   ],
   "source": [
    "pip install pycryptodomex\n"
   ]
  },
  {
   "cell_type": "code",
   "execution_count": 1,
   "id": "4ef527dd",
   "metadata": {},
   "outputs": [
    {
     "name": "stdout",
     "output_type": "stream",
     "text": [
      "Requirement already satisfied: pycryptodome in c:\\users\\nandh\\anaconda3\\lib\\site-packages (3.14.1)\n",
      "Note: you may need to restart the kernel to use updated packages.\n"
     ]
    }
   ],
   "source": [
    "pip install pycryptodome"
   ]
  },
  {
   "cell_type": "code",
   "execution_count": 7,
   "id": "01060267",
   "metadata": {},
   "outputs": [
    {
     "ename": "SyntaxError",
     "evalue": "invalid syntax (nlp.py, line 7)",
     "output_type": "error",
     "traceback": [
      "Traceback \u001b[1;36m(most recent call last)\u001b[0m:\n",
      "  File \u001b[0;32m\"C:\\Users\\nandh\\anaconda3\\lib\\site-packages\\IPython\\core\\interactiveshell.py\"\u001b[0m, line \u001b[0;32m3444\u001b[0m, in \u001b[0;35mrun_code\u001b[0m\n    exec(code_obj, self.user_global_ns, self.user_ns)\n",
      "\u001b[1;36m  File \u001b[1;32m\"C:\\Users\\nandh\\AppData\\Local\\Temp/ipykernel_14536/4069810483.py\"\u001b[1;36m, line \u001b[1;32m17\u001b[1;36m, in \u001b[1;35m<module>\u001b[1;36m\u001b[0m\n\u001b[1;33m    from nlp import *\u001b[0m\n",
      "\u001b[1;36m  File \u001b[1;32m\"C:\\Users\\nandh\\anaconda3\\SRP\\nlp.py\"\u001b[1;36m, line \u001b[1;32m7\u001b[0m\n\u001b[1;33m    pip install google-api-core\u001b[0m\n\u001b[1;37m        ^\u001b[0m\n\u001b[1;31mSyntaxError\u001b[0m\u001b[1;31m:\u001b[0m invalid syntax\n"
     ]
    }
   ],
   "source": [
    "#import pyrebase\n",
    "\n",
    "from sys import byteorder\n",
    "from array import array\n",
    "from struct import pack\n",
    "\n",
    "import pyaudio\n",
    "import wave\n",
    "import datetime\n",
    "import sys\n",
    "import test_model\n",
    "import os\n",
    "\n",
    "from Respond import *\n",
    "from speech_recogniser import *\n",
    "from test_model import main\n",
    "from nlp import *\n",
    "\n",
    "config = {\n",
    "  # get token from royangkr\n",
    "}\n",
    "\n",
    "BABY_REC = False\n",
    "count={'bp':0,'bu':0,'ch':0,'dc':0,'hu':0,'lo':0,'sc':0,'ti':0}\n",
    "\n",
    "def stream_handler(message):\n",
    "    global BABY_REC\n",
    "    global count\n",
    "    if message[\"event\"]==\"put\" and message[\"path\"]!=\"/\" and message[\"data\"]!=None:\n",
    "        print(message[\"path\"])\n",
    "        storage.child(message[\"data\"]).download(\"firebase.wav\")\n",
    "        response = recognize_speech_from_file(\"firebase.wav\") #change file name to file from firebase\n",
    "\t\t\n",
    "\t# If speech recognizer is unable to decipher audio file, it would either mean that 1) The baby is crying, or 2) The person speaking sucks at speaking.\n",
    "\t# In our case we will assume the user has perfect recognizable speech\n",
    "\t# If speech is recognized, then we will assume it is the user that is issuing commands to the application\n",
    "        print(response)\n",
    "        if(BABY_REC and response[\"error\"]==\"Unable to recognize speech\"):\n",
    "            prediction = test_model.main()  #predict here\n",
    "            print(\"Guess: \"+prediction)\n",
    "            count[prediction]=count[prediction]+1\n",
    "            if count[prediction]>1:\n",
    "                print(\"Final prediction: \"+prediction)\n",
    "                print(count)\n",
    "                responseReturn=respond(prediction)\n",
    "                if not responseReturn==\"\":\n",
    "                    data = {str(message[\"path\"])[1:]: responseReturn}\n",
    "                    db.child(\"output\").set(data)\n",
    "                else:\n",
    "                    data = {str(message[\"path\"])[1:]: \"blank\"}\n",
    "                    db.child(\"output\").set(data)\n",
    "                count={'bp':0,'bu':0,'ch':0,'dc':0,'hu':0,'lo':0,'sc':0,'ti':0}\n",
    "            else:\n",
    "                data = {str(message[\"path\"])[1:]: \"blank\"}\n",
    "                db.child(\"output\").set(data)\n",
    "        elif (not response[\"error\"]==\"Unable to recognize speech\"):\n",
    "            inputCommand=response[\"transcription\"]\n",
    "            output=detect_intent_texts(\"sa2018-8267e\",\"1\",[inputCommand,], \"en\")\n",
    "            if output==\"code: start\":\n",
    "                if (BABY_REC == False):\n",
    "                        BABY_REC = True\n",
    "                        print(\"Starting to listen for baby cry\")\n",
    "                        data = {str(message[\"path\"])[1:]: \"Starting to listen for baby cry\"}\n",
    "                        db.child(\"output\").set(data)\n",
    "                else:\n",
    "                        print(\"Already started listening for baby cry\")\n",
    "                        data = {str(message[\"path\"])[1:]: \"Already started listening for baby cry\"}\n",
    "                        db.child(\"output\").set(data)\n",
    "            elif (output==\"code: stop\"):\n",
    "                    BABY_REC = False\n",
    "                    print(\"Stopped listening for baby cry\")\n",
    "                    data = {str(message[\"path\"])[1:]: \"Stopped listening for baby cry\"}\n",
    "                    db.child(\"output\").set(data)\n",
    "            elif (output==\"code: log\"):\n",
    "                try:\n",
    "                    f = open('Baby_Log.txt')\n",
    "                    text=f.read()\n",
    "                    if (text == \"\"):\n",
    "                        print(\"Log file is currently empty.\")\n",
    "                        data = {str(message[\"path\"])[1:]: \"Log file is currently empty.\"}\n",
    "                        db.child(\"output\").set(data)\n",
    "                    else:\n",
    "                        babyLogs = text.split(\"\\n\")\n",
    "                        no_of_cries_today=-1\n",
    "                        for x in babyLogs:\n",
    "                            no_of_cries_today += 1\n",
    "                        # print(text)\n",
    "                        \n",
    "                        print(\"Your baby has cried \" + str(no_of_cries_today) + \"times.\")\n",
    "                        data = {str(message[\"path\"])[1:]: \"Your baby has cried \" + str(no_of_cries_today) + \"times.\"}\n",
    "                        db.child(\"output\").set(data)\n",
    "                        f.close()\n",
    "                except IOError:\n",
    "                    print(\"There are no current logs.\")\n",
    "                    data = {str(message[\"path\"])[1:]: \"There are no current logs.\"}\n",
    "                    db.child(\"output\").set(data)\n",
    "            elif(output==\"code: clearLogs\"):\n",
    "                f = open('Baby_Log.txt','w').close\n",
    "                print(\"Logs cleared.\")\n",
    "                data = {str(message[\"path\"])[1:]: \"Logs cleared.\"}\n",
    "                db.child(\"output\").set(data)\n",
    "            else:\n",
    "                print(output)\n",
    "                data = {str(message[\"path\"])[1:]: output}\n",
    "                db.child(\"output\").set(data)\n",
    "        else:\n",
    "            data = {str(message[\"path\"])[1:]: \"blank\"}\n",
    "            db.child(\"output\").set(data)\n",
    "        db.child(\"input\").child(message[\"path\"]).remove()\n",
    "        os.remove(\"firebase.wav\")\n",
    "firebase = pyrebase.initialize_app(config)\n",
    "storage=firebase.storage()\n",
    "db = firebase.database()\n",
    "print(\"Starting to listen to firebase\")\n",
    "my_stream = db.child(\"input\").stream(stream_handler)\n",
    "print(\"Listening\")\n"
   ]
  },
  {
   "cell_type": "code",
   "execution_count": null,
   "id": "24523ca0",
   "metadata": {},
   "outputs": [],
   "source": []
  }
 ],
 "metadata": {
  "kernelspec": {
   "display_name": "Python 3 (ipykernel)",
   "language": "python",
   "name": "python3"
  },
  "language_info": {
   "codemirror_mode": {
    "name": "ipython",
    "version": 3
   },
   "file_extension": ".py",
   "mimetype": "text/x-python",
   "name": "python",
   "nbconvert_exporter": "python",
   "pygments_lexer": "ipython3",
   "version": "3.9.7"
  }
 },
 "nbformat": 4,
 "nbformat_minor": 5
}
